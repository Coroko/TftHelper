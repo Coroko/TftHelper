{
 "cells": [
  {
   "cell_type": "markdown",
   "metadata": {},
   "source": [
    "<h1>TFT copilot </h1>\n",
    "\n",
    "<h2>Introduccion:</h2>\n",
    "\n",
    "Esta aplicacion dara ayuda a todo aquel jugador del juego de RIOT Team Fight Tactics (abreviado TFT) para conseguir una mayor eficiencia en la selecion de campeones, estrategia y econimia del juego. Esta se basara en un chatbot el cual conectado a una api oficial del juego nos ira dando toda la informacion sobre la partida a la que estemos jugando, y dara consejos basados en otras partidas similares. La api utilizada podra ser acesible atraves de este <a href='https://developer.riotgames.com'> link </a>."
   ]
  },
  {
   "cell_type": "markdown",
   "metadata": {},
   "source": []
  },
  {
   "cell_type": "markdown",
   "metadata": {},
   "source": []
  }
 ],
 "metadata": {
  "language_info": {
   "name": "python"
  },
  "orig_nbformat": 4
 },
 "nbformat": 4,
 "nbformat_minor": 2
}
